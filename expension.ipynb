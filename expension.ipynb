{
 "metadata": {
  "language_info": {
   "codemirror_mode": {
    "name": "ipython",
    "version": 3
   },
   "file_extension": ".py",
   "mimetype": "text/x-python",
   "name": "python",
   "nbconvert_exporter": "python",
   "pygments_lexer": "ipython3",
   "version": "3.8.5-final"
  },
  "orig_nbformat": 2,
  "kernelspec": {
   "name": "python3",
   "display_name": "Python 3.8.5 64-bit (conda)",
   "metadata": {
    "interpreter": {
     "hash": "dca0ade3e726a953b501b15e8e990130d2b7799f14cfd9f4271676035ebe5511"
    }
   }
  }
 },
 "nbformat": 4,
 "nbformat_minor": 2,
 "cells": [
  {
   "cell_type": "code",
   "execution_count": 1,
   "metadata": {},
   "outputs": [],
   "source": [
    "path_to_seg = \"/Users/xuejiaxin/Dropbox/My Mac (Jiaxin的MacBook Pro)/Documents/GitHub/pytorch-CycleGAN-and-pix2pix/datasets/PASCAL/expension/Seg_image/\"\n",
    "path_to_original = \"/Users/xuejiaxin/Dropbox/My Mac (Jiaxin的MacBook Pro)/Documents/GitHub/pytorch-CycleGAN-and-pix2pix/datasets/PASCAL/expension/Label_image/\"\n",
    "\n",
    "image_1 = \"2007_009911.jpg\""
   ]
  },
  {
   "cell_type": "code",
   "execution_count": 2,
   "metadata": {},
   "outputs": [],
   "source": [
    "from PIL import Image\n",
    "import numpy as np\n",
    "\n",
    "im_seg = path_to_seg + image_1\n",
    "im_or = path_to_original + image_1\n",
    "\n",
    "im_a = np.array(Image.open(im_seg))\n",
    "im_b = np.array(Image.open(im_or))\n",
    "im_c = im_b.copy()\n",
    " "
   ]
  },
  {
   "cell_type": "code",
   "execution_count": 3,
   "metadata": {},
   "outputs": [
    {
     "output_type": "stream",
     "name": "stdout",
     "text": [
      "[0 0 0] [ 92 140 180] [ 92 140 180]\n"
     ]
    }
   ],
   "source": [
    "print(im_a[100][100], im_b[100][100], im_c[100][100])"
   ]
  },
  {
   "cell_type": "code",
   "execution_count": 4,
   "metadata": {
    "tags": []
   },
   "outputs": [],
   "source": [
    "for i in range(im_a.shape[0]):\n",
    "    for j in range(im_a.shape[1]):\n",
    "        if (im_a[i][j] <= 25).all() or (im_a[i][j] >= 250).all():\n",
    "            im_c[i][j] = np.ones(im_c[i][j].shape) * 255\n"
   ]
  },
  {
   "cell_type": "code",
   "execution_count": 5,
   "metadata": {},
   "outputs": [
    {
     "output_type": "stream",
     "name": "stdout",
     "text": [
      "[0 0 0] [ 91 139 179] [255 255 255]\n"
     ]
    }
   ],
   "source": [
    "print(im_a[1][1], im_b[1][1], im_c[1][1])"
   ]
  },
  {
   "cell_type": "code",
   "execution_count": 6,
   "metadata": {},
   "outputs": [],
   "source": [
    "im_c = Image.fromarray(im_c.astype('uint8'))\n",
    "im_c.save('test.jpg')"
   ]
  },
  {
   "cell_type": "code",
   "execution_count": 7,
   "metadata": {},
   "outputs": [],
   "source": [
    "d = im_a.copy()\n",
    "for i in range(im_a.shape[0]):\n",
    "    for j in range(im_a.shape[1]):\n",
    "        if (im_a[i][j] <= 25).all() or (im_a[i][j] >= 250).all():\n",
    "            d[i][j] = np.ones(d[i][j].shape)*255\n",
    "\n",
    "d = Image.fromarray(d.astype('uint8'))\n",
    "d.save('test_1.jpg')"
   ]
  },
  {
   "cell_type": "code",
   "execution_count": 4,
   "metadata": {},
   "outputs": [],
   "source": [
    "from PIL import Image\n",
    "import numpy as np\n",
    "\n",
    "path_to_main = \"/Users/xuejiaxin/Dropbox/My Mac (Jiaxin的MacBook Pro)/Documents/GitHub/pytorch-CycleGAN-and-pix2pix/datasets/PASCAL/expension/\"\n",
    "\n",
    "path_to_input = path_to_main + \"Seg_image/\"\n",
    "\n",
    "path_to_label = path_to_main + \"Label_image/\"\n",
    "\n",
    "\n",
    "def remove_backgroud(file_name):\n",
    "\n",
    "    path_to_seg = path_to_input + file_name\n",
    "\n",
    "    path_to_or = path_to_label + file_name\n",
    "\n",
    "    path_to_save = path_to_main + \"Label_modified/\" + file_name\n",
    "    \n",
    "    im_a = np.array(Image.open(path_to_seg))\n",
    "    im_b = np.array(Image.open(path_to_or))\n",
    "    im_c = im_b.copy()\n",
    "\n",
    "    for i in range(im_a.shape[0]):\n",
    "        for j in range(im_a.shape[1]):\n",
    "            if (im_a[i][j] <= 20).all() or (im_a[i][j] >= 250).all():\n",
    "                im_c[i][j] = np.ones(im_c[i][j].shape) * 255\n",
    "\n",
    "    im_c = Image.fromarray(im_c.astype('uint8'))\n",
    "    im_c.save(path_to_save)\n",
    "\n",
    "\n",
    "def mirror_flip(file_name):\n",
    "\n",
    "    path_to_seg = path_to_input + file_name\n",
    "\n",
    "    path_to_or = path_to_label + file_name\n",
    "\n",
    "    path_to_save_1 = path_to_input + \"1_\"  + file_name\n",
    "\n",
    "    path_to_save_2 = path_to_label + \"1_\" + file_name\n",
    "\n",
    "    im_seg = Image.open(path_to_seg)\n",
    "    im_seg.transpose(Image.FLIP_LEFT_RIGHT).save(path_to_save_1)\n",
    "\n",
    "    im_or = Image.open(path_to_or)\n",
    "    im_or.transpose(Image.FLIP_LEFT_RIGHT).save(path_to_save_2)\n"
   ]
  },
  {
   "cell_type": "code",
   "execution_count": 5,
   "metadata": {},
   "outputs": [],
   "source": [
    "file_names = os.listdir(\"/Users/xuejiaxin/Dropbox/My Mac (Jiaxin的MacBook Pro)/Documents/GitHub/pytorch-CycleGAN-and-pix2pix/datasets/PASCAL/expension/Seg_image\")"
   ]
  },
  {
   "cell_type": "code",
   "execution_count": 6,
   "metadata": {},
   "outputs": [
    {
     "output_type": "execute_result",
     "data": {
      "text/plain": [
       "2913"
      ]
     },
     "metadata": {},
     "execution_count": 6
    }
   ],
   "source": [
    "len(file_names)"
   ]
  },
  {
   "cell_type": "code",
   "execution_count": 4,
   "metadata": {},
   "outputs": [],
   "source": [
    "for file_name in file_names:\n",
    "    mirror_flip(file_name)\n"
   ]
  },
  {
   "cell_type": "code",
   "execution_count": 12,
   "metadata": {},
   "outputs": [
    {
     "output_type": "execute_result",
     "data": {
      "text/plain": [
       "5826"
      ]
     },
     "metadata": {},
     "execution_count": 12
    }
   ],
   "source": [
    "file_names = os.listdir(\"/Users/xuejiaxin/Dropbox/My Mac (Jiaxin的MacBook Pro)/Documents/GitHub/pytorch-CycleGAN-and-pix2pix/datasets/PASCAL/expension/Seg_image\")\n",
    "len(file_names)"
   ]
  },
  {
   "cell_type": "code",
   "execution_count": 11,
   "metadata": {},
   "outputs": [
    {
     "output_type": "execute_result",
     "data": {
      "text/plain": [
       "5826"
      ]
     },
     "metadata": {},
     "execution_count": 11
    }
   ],
   "source": [
    "file_names_flip = os.listdir(\"/Users/xuejiaxin/Dropbox/My Mac (Jiaxin的MacBook Pro)/Documents/GitHub/pytorch-CycleGAN-and-pix2pix/datasets/PASCAL/expension/Seg_image\")\n",
    "\n",
    "len(file_names)"
   ]
  },
  {
   "cell_type": "code",
   "execution_count": 13,
   "metadata": {},
   "outputs": [],
   "source": [
    "for file_name in file_names_flip:\n",
    "    remove_backgroud(file_name)"
   ]
  },
  {
   "cell_type": "code",
   "execution_count": 26,
   "metadata": {},
   "outputs": [],
   "source": [
    "import cv2\n",
    "\n",
    "def denoising(file_name):\n",
    "    path_to_file = path_to_main + \"Label_modified/\" + file_name\n",
    "    save_path = path_to_main + \"test/\" + file_name\n",
    "    im = cv2.imread(path_to_file)\n",
    "    im_1 = cv2.fastNlMeansDenoisingColored(im,None,10,10,7,21)\n",
    "    cv2.imwrite(save_path, im_1)\n",
    "\n",
    "denoising(file_names_flip[1])"
   ]
  },
  {
   "cell_type": "code",
   "execution_count": 32,
   "metadata": {},
   "outputs": [],
   "source": [
    "from sklearn.model_selection import train_test_split\n",
    "from shutil import copy\n",
    "\n",
    "path_to_label = path_to_main + \"Label_modified/\"\n",
    "\n",
    "path_to_A = path_to_main + \"A/\"\n",
    "path_to_B = path_to_main + \"B/\"\n",
    "path_to_pairs = path_to_main + \"pairs/\"\n",
    "\n",
    "def split_data_intoAB(file_names):\n",
    "\n",
    "    \n",
    "\n",
    "    X_train, X_test, y_train, y_test = train_test_split(file_names, file_names, test_size=0.2, random_state=6, shuffle=True)\n",
    "    X_test, X_val, y_test, y_val = train_test_split(X_test, y_test, test_size=0.5, random_state=6, shuffle=True)\n",
    "\n",
    "    for train in X_train:\n",
    "        copy(path_to_input + train, path_to_A + \"train\")\n",
    "        copy(path_to_label + train, path_to_B + \"train\")\n",
    "\n",
    "    for test in X_test:\n",
    "        copy(path_to_input + test, path_to_A + \"test\")\n",
    "        copy(path_to_label + test, path_to_B + \"test\")\n",
    "\n",
    "    for val in X_val:\n",
    "        copy(path_to_input + val, path_to_A + \"val\")\n",
    "        copy(path_to_label + val, path_to_B + \"val\")\n",
    "\n",
    "split_data_intoAB(file_names_flip)"
   ]
  },
  {
   "cell_type": "code",
   "execution_count": 31,
   "metadata": {},
   "outputs": [
    {
     "output_type": "stream",
     "name": "stdout",
     "text": [
      "/Users/xuejiaxin/Dropbox/My Mac (Jiaxin的MacBook Pro)/Documents/GitHub/pytorch-CycleGAN-and-pix2pix/datasets/PASCAL/expension/\n"
     ]
    }
   ],
   "source": [
    "print(path_to_main)"
   ]
  },
  {
   "cell_type": "code",
   "execution_count": null,
   "metadata": {},
   "outputs": [],
   "source": [
    "python datasets/combine_A_and_B.py --fold_A \"./datasets/PASCAL/expension/A\" --fold_B \"./datasets/PASCAL/expension/B\" --fold_AB \"./datasets/PASCAL/expension/pairs\""
   ]
  }
 ]
}